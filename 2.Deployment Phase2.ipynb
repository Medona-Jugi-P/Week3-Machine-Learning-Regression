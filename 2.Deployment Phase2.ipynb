{
 "cells": [
  {
   "cell_type": "code",
   "execution_count": 1,
   "id": "dd2ede45",
   "metadata": {},
   "outputs": [],
   "source": [
    "import pickle"
   ]
  },
  {
   "cell_type": "code",
   "execution_count": 4,
   "id": "a59d5971",
   "metadata": {},
   "outputs": [],
   "source": [
    "#load the model to check \n",
    "loaded_model=pickle.load(open(\"finalized_model_Linear.sav\",'rb'))\n",
    "result=loaded_model.predict([[1]])#1 is a experience of the canditate"
   ]
  },
  {
   "cell_type": "code",
   "execution_count": 5,
   "id": "1c86df4e",
   "metadata": {},
   "outputs": [
    {
     "data": {
      "text/plain": [
       "array([[36137.65262739]])"
      ]
     },
     "execution_count": 5,
     "metadata": {},
     "output_type": "execute_result"
    }
   ],
   "source": [
    "#find the salary based on their experience\n",
    "result"
   ]
  },
  {
   "cell_type": "code",
   "execution_count": null,
   "id": "cfee5b1b",
   "metadata": {},
   "outputs": [],
   "source": [
    "# y=weightX + bias\n",
    "#y=9360x + 26777\n",
    "#we get the result of the model finally...."
   ]
  }
 ],
 "metadata": {
  "kernelspec": {
   "display_name": "Python 3",
   "language": "python",
   "name": "python3"
  },
  "language_info": {
   "codemirror_mode": {
    "name": "ipython",
    "version": 3
   },
   "file_extension": ".py",
   "mimetype": "text/x-python",
   "name": "python",
   "nbconvert_exporter": "python",
   "pygments_lexer": "ipython3",
   "version": "3.8.8"
  }
 },
 "nbformat": 4,
 "nbformat_minor": 5
}
